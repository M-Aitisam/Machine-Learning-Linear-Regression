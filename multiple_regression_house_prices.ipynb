{
 "cells": [
  {
   "cell_type": "markdown",
   "metadata": {},
   "source": [
    "# Multiple Linear Regression: House Price Prediction\n",
    "Predict house prices based on features like area, bedrooms, and age."
   ]
  },
  {
   "cell_type": "code",
   "execution_count": 1,
   "metadata": {},
   "outputs": [
    {
     "name": "stdout",
     "output_type": "stream",
     "text": [
      "Coefficients: [ 7.78704443 -0.05164361 -1.05124219]\n",
      "Intercept: -3.5881005664430354\n",
      "Equation: Price = -3.59 + 7.79*Rooms + -0.05*Age + -1.05*PTRatio\n",
      "     Actual  Predicted\n",
      "173    23.6  24.579729\n",
      "274    32.4  28.835808\n",
      "491    13.6  16.769430\n",
      "72     22.8  23.053654\n",
      "452    16.1  19.470943\n"
     ]
    }
   ],
   "source": [
    "import pandas as pd\n",
    "import numpy as np\n",
    "from sklearn.linear_model import LinearRegression\n",
    "from sklearn.model_selection import train_test_split\n",
    "\n",
    "# Dataset (using Boston Housing dataset features as example)\n",
    "# Using 'rm' (rooms), 'age', and 'ptratio' as our features\n",
    "data = pd.read_csv('https://raw.githubusercontent.com/selva86/datasets/master/BostonHousing.csv')\n",
    "\n",
    "# For this example, we'll use these columns as our features\n",
    "X = data[['rm', 'age', 'ptratio']]  # Rooms, Age, Pupil-Teacher Ratio\n",
    "y = data['medv']  # Median home value\n",
    "\n",
    "# Split data\n",
    "X_train, X_test, y_train, y_test = train_test_split(X, y, test_size=0.2, random_state=42)\n",
    "\n",
    "# Train model\n",
    "model = LinearRegression()\n",
    "model.fit(X_train, y_train)\n",
    "\n",
    "# Predict\n",
    "y_pred = model.predict(X_test)\n",
    "\n",
    "# Evaluate\n",
    "print(\"Coefficients:\", model.coef_)\n",
    "print(\"Intercept:\", model.intercept_)\n",
    "print(f\"Equation: Price = {model.intercept_:.2f} + {model.coef_[0]:.2f}*Rooms + {model.coef_[1]:.2f}*Age + {model.coef_[2]:.2f}*PTRatio\")\n",
    "\n",
    "# Show first few predictions vs actual\n",
    "results = pd.DataFrame({'Actual': y_test, 'Predicted': y_pred})\n",
    "print(results.head())\n"
   ]
  }
 ],
 "metadata": {
  "kernelspec": {
   "display_name": ".venv",
   "language": "python",
   "name": "python3"
  },
  "language_info": {
   "codemirror_mode": {
    "name": "ipython",
    "version": 3
   },
   "file_extension": ".py",
   "mimetype": "text/x-python",
   "name": "python",
   "nbconvert_exporter": "python",
   "pygments_lexer": "ipython3",
   "version": "3.11.9"
  }
 },
 "nbformat": 4,
 "nbformat_minor": 4
}
