{
 "cells": [
  {
   "cell_type": "markdown",
   "metadata": {},
   "source": [
    "# Multiple Linear Regression: Product Sales Prediction\n",
    "Predict product sales based on advertising budget in different media (TV, Radio, and Newspaper)."
   ]
  },
  {
   "cell_type": "code",
   "execution_count": 1,
   "metadata": {},
   "outputs": [
    {
     "name": "stdout",
     "output_type": "stream",
     "text": [
      "Coefficients: [ 0.0495278   0.15278454 -0.01687836]\n",
      "Intercept: 3.775136898415722\n",
      "Equation: Sales = 3.78 + 0.05*TV + 0.15*Radio + -0.02*Newspaper\n",
      "    Actual  Predicted\n",
      "0     22.1  19.778757\n",
      "17    24.4  22.820716\n",
      "15    22.4  19.847827\n",
      "1     10.4  11.222342\n"
     ]
    }
   ],
   "source": [
    "import pandas as pd\n",
    "import numpy as np\n",
    "from sklearn.linear_model import LinearRegression\n",
    "from sklearn.model_selection import train_test_split\n",
    "\n",
    "# Dataset\n",
    "data = pd.DataFrame({\n",
    "    'TV': [230.1,44.5,17.2,151.5,180.8,8.7,57.5,120.2,8.6,199.8,66.1,214.7,23.8,97.5,204.1,195.4,67.8,281.4,69.2,147.3],\n",
    "    'Radio': [37.8,39.3,45.9,41.3,10.8,48.9,32.8,19.6,2.1,2.6,5.8,24,35.1,7.6,32.9,47.7,36.6,39.6,20.5,23.9],\n",
    "    'Newspaper': [69.2,45.1,69.3,58.5,58.4,75,23.5,11.6,1,21.2,24.2,4,65.9,7.2,46,52.9,114,55.8,18.3,19.1],\n",
    "    'Sales': [22.1,10.4,9.3,18.5,12.9,7.2,11.8,13.2,4.8,10.6,8.6,17.4,9.2,9.7,19,22.4,12.5,24.4,11.3,14.6]\n",
    "})\n",
    "\n",
    "# Prepare data\n",
    "X = data[['TV', 'Radio', 'Newspaper']]\n",
    "y = data['Sales']\n",
    "\n",
    "# Split data\n",
    "X_train, X_test, y_train, y_test = train_test_split(X, y, test_size=0.2, random_state=42)\n",
    "\n",
    "# Train model\n",
    "model = LinearRegression()\n",
    "model.fit(X_train, y_train)\n",
    "\n",
    "# Predict\n",
    "y_pred = model.predict(X_test)\n",
    "\n",
    "# Evaluate\n",
    "print(\"Coefficients:\", model.coef_)\n",
    "print(\"Intercept:\", model.intercept_)\n",
    "print(f\"Equation: Sales = {model.intercept_:.2f} + {model.coef_[0]:.2f}*TV + {model.coef_[1]:.2f}*Radio + {model.coef_[2]:.2f}*Newspaper\")\n",
    "\n",
    "# Show first few predictions vs actual\n",
    "results = pd.DataFrame({'Actual': y_test, 'Predicted': y_pred})\n",
    "print(results.head())\n"
   ]
  }
 ],
 "metadata": {
  "kernelspec": {
   "display_name": ".venv",
   "language": "python",
   "name": "python3"
  },
  "language_info": {
   "codemirror_mode": {
    "name": "ipython",
    "version": 3
   },
   "file_extension": ".py",
   "mimetype": "text/x-python",
   "name": "python",
   "nbconvert_exporter": "python",
   "pygments_lexer": "ipython3",
   "version": "3.11.9"
  }
 },
 "nbformat": 4,
 "nbformat_minor": 4
}
